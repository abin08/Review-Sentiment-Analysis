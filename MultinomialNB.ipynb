{
 "cells": [
  {
   "cell_type": "code",
   "execution_count": 1,
   "metadata": {},
   "outputs": [],
   "source": [
    "import pickle\n",
    "import pandas as pd\n",
    "from sklearn.naive_bayes import MultinomialNB\n",
    "from sklearn.metrics import classification_report, confusion_matrix, accuracy_score"
   ]
  },
  {
   "cell_type": "code",
   "execution_count": 2,
   "metadata": {},
   "outputs": [],
   "source": [
    "%matplotlib inline"
   ]
  },
  {
   "cell_type": "code",
   "execution_count": 3,
   "metadata": {},
   "outputs": [],
   "source": [
    "#import dataframe\n",
    "with open('pickles/amazon/processed_df.pickle', 'rb') as data:\n",
    "    df = pickle.load(data)\n",
    "    \n",
    "# import train features\n",
    "with open('pickles/amazon/train_features.pickle', 'rb') as data:\n",
    "     train_features = pickle.load(data)\n",
    "\n",
    "# import train labels\n",
    "with open('pickles/amazon/train_labels.pickle', 'rb') as data:\n",
    "     train_labels = pickle.load(data)\n",
    "        \n",
    "# import test features\n",
    "with open('pickles/amazon/test_features.pickle', 'rb') as data:\n",
    "     test_features = pickle.load(data)\n",
    "        \n",
    "# import test labels\n",
    "with open('pickles/amazon/test_labels.pickle', 'rb') as data:\n",
    "     test_labels = pickle.load(data)\n",
    "        \n",
    "# import tfidf\n",
    "with open('pickles/amazon/tfidf.pickle', 'rb') as data:\n",
    "     tfidf = pickle.load(data)"
   ]
  },
  {
   "cell_type": "code",
   "execution_count": 4,
   "metadata": {},
   "outputs": [],
   "source": [
    "mnb_classifier = MultinomialNB()"
   ]
  },
  {
   "cell_type": "code",
   "execution_count": 5,
   "metadata": {},
   "outputs": [
    {
     "data": {
      "text/plain": [
       "MultinomialNB(alpha=1.0, class_prior=None, fit_prior=True)"
      ]
     },
     "execution_count": 5,
     "metadata": {},
     "output_type": "execute_result"
    }
   ],
   "source": [
    "mnb_classifier.fit(train_features, train_labels)"
   ]
  },
  {
   "cell_type": "code",
   "execution_count": 6,
   "metadata": {},
   "outputs": [],
   "source": [
    "mnb_prediction = mnb_classifier.predict(test_features)"
   ]
  },
  {
   "cell_type": "code",
   "execution_count": 7,
   "metadata": {},
   "outputs": [
    {
     "name": "stdout",
     "output_type": "stream",
     "text": [
      "0.8835568101623148\n"
     ]
    }
   ],
   "source": [
    "training_accuracy = accuracy_score(train_labels, mnb_classifier.predict(train_features))\n",
    "print(training_accuracy)"
   ]
  },
  {
   "cell_type": "code",
   "execution_count": 8,
   "metadata": {},
   "outputs": [
    {
     "name": "stdout",
     "output_type": "stream",
     "text": [
      "0.8781749764816557\n"
     ]
    }
   ],
   "source": [
    "testing_accuracy = accuracy_score(test_labels, mnb_prediction)\n",
    "print(testing_accuracy)"
   ]
  },
  {
   "cell_type": "code",
   "execution_count": 9,
   "metadata": {},
   "outputs": [
    {
     "name": "stdout",
     "output_type": "stream",
     "text": [
      "              precision    recall  f1-score   support\n",
      "\n",
      "         0.0       0.89      0.68      0.77       510\n",
      "         1.0       0.85      0.96      0.90       952\n",
      "         2.0       0.92      0.91      0.92       664\n",
      "\n",
      "    accuracy                           0.88      2126\n",
      "   macro avg       0.89      0.85      0.86      2126\n",
      "weighted avg       0.88      0.88      0.87      2126\n",
      "\n"
     ]
    }
   ],
   "source": [
    "print(classification_report(test_labels, mnb_prediction))"
   ]
  },
  {
   "cell_type": "code",
   "execution_count": 10,
   "metadata": {},
   "outputs": [
    {
     "name": "stdout",
     "output_type": "stream",
     "text": [
      "[[346 127  37]\n",
      " [ 23 916  13]\n",
      " [ 21  38 605]]\n"
     ]
    }
   ],
   "source": [
    "conf_matrix = confusion_matrix(test_labels, mnb_prediction)\n",
    "print(conf_matrix)"
   ]
  },
  {
   "cell_type": "code",
   "execution_count": 11,
   "metadata": {},
   "outputs": [],
   "source": [
    "with open('pickles/amazon/mnb_classifier.pickle','wb') as data:\n",
    "    pickle.dump(mnb_classifier, data)"
   ]
  },
  {
   "cell_type": "code",
   "execution_count": null,
   "metadata": {},
   "outputs": [],
   "source": []
  }
 ],
 "metadata": {
  "kernelspec": {
   "display_name": "Python 3",
   "language": "python",
   "name": "python3"
  },
  "language_info": {
   "codemirror_mode": {
    "name": "ipython",
    "version": 3
   },
   "file_extension": ".py",
   "mimetype": "text/x-python",
   "name": "python",
   "nbconvert_exporter": "python",
   "pygments_lexer": "ipython3",
   "version": "3.7.5"
  }
 },
 "nbformat": 4,
 "nbformat_minor": 2
}
