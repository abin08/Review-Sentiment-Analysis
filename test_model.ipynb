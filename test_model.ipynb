{
 "cells": [
  {
   "cell_type": "code",
   "execution_count": 11,
   "metadata": {},
   "outputs": [],
   "source": [
    "import pandas as pd\n",
    "import pickle\n",
    "import nltk\n",
    "from nltk.tokenize.toktok import ToktokTokenizer\n",
    "import warnings\n",
    "warnings.filterwarnings('ignore')\n",
    "\n",
    "import text_processor as tp"
   ]
  },
  {
   "cell_type": "code",
   "execution_count": 2,
   "metadata": {},
   "outputs": [],
   "source": [
    "# import classifier\n",
    "with open('pickles/amazon/mnb_classifier.pickle', 'rb') as data:\n",
    "    model = pickle.load(data)\n",
    "    \n",
    "# import tfidf\n",
    "with open('pickles/amazon/tfidf.pickle', 'rb') as data:\n",
    "     tfidf = pickle.load(data)"
   ]
  },
  {
   "cell_type": "code",
   "execution_count": 3,
   "metadata": {},
   "outputs": [],
   "source": [
    "category_map = {'Negative':0, 'Positive':1, 'Compliant':2}"
   ]
  },
  {
   "cell_type": "code",
   "execution_count": 4,
   "metadata": {},
   "outputs": [],
   "source": [
    "def get_category(text):\n",
    "    cleaned_text = tp.clean_text(text)\n",
    "    tfidf_vector = tfidf.transform([cleaned_text])\n",
    "    category_id = model.predict(tfidf_vector)\n",
    "    return get_name(category_id)"
   ]
  },
  {
   "cell_type": "code",
   "execution_count": 5,
   "metadata": {},
   "outputs": [],
   "source": [
    "def get_name(category_id):\n",
    "    for category_name, id_ in category_map.items():\n",
    "        if id_ == category_id:\n",
    "            return category_name"
   ]
  },
  {
   "cell_type": "code",
   "execution_count": 6,
   "metadata": {},
   "outputs": [],
   "source": [
    "def get_pos_tags(text):\n",
    "    tokenizer = ToktokTokenizer()\n",
    "    tokens = tokenizer.tokenize(text)    \n",
    "    pos_tags = nltk.pos_tag(tokens)\n",
    "    nouns = []\n",
    "    adjectives = []\n",
    "    verbs = []\n",
    "    for word, tag in pos_tags:\n",
    "        if tag == \"NN\" or tag == \"NNP\" or tag == \"NNS\":\n",
    "            nouns.append(word)\n",
    "        elif tag == \"VB\" or tag == \"VBD\" or tag == \"VBG\" or tag == \"VBN\" or tag == \"VBP\" or tag == \"VBZ\":\n",
    "            verbs.append(word)\n",
    "        elif tag == \"JJ\" or tag == \"JJR\" or tag == \"JJS\" or tag == \"RB\" or tag == \"RBR\" or tag == \"RBS\":\n",
    "            adjectives.append(word)\n",
    "            \n",
    "    return nouns, adjectives, verbs\n",
    "    "
   ]
  },
  {
   "cell_type": "code",
   "execution_count": 47,
   "metadata": {},
   "outputs": [],
   "source": [
    "def sentiment_analysis(text):\n",
    "    category_name = get_category(text)\n",
    "    print(f'Sentiment: {category_name}')\n",
    "    if category_name == 'Positive':\n",
    "        nouns, adjectives, verbs = get_pos_tags(text)\n",
    "        print(f'Cause of positivity: {nouns}') \n",
    "        print(f'Positive word: {adjectives if adjectives else verbs}')\n",
    "    elif category_name == 'Negative':\n",
    "        nouns, adjectives, verbs = get_pos_tags(text)\n",
    "        print(f'Cause of negativity: {nouns}') \n",
    "        print(f'Negative word: {adjectives if adjectives else verbs}')"
   ]
  },
  {
   "cell_type": "code",
   "execution_count": 58,
   "metadata": {},
   "outputs": [],
   "source": [
    "text = \"It's beyond my expectation, and it can even show music score. Not fast turning though.\""
   ]
  },
  {
   "cell_type": "code",
   "execution_count": 49,
   "metadata": {},
   "outputs": [
    {
     "name": "stdout",
     "output_type": "stream",
     "text": [
      "Sentiment: Positive\n",
      "Cause of positivity: ['expectation', 'music', 'score.']\n",
      "Positive word: ['s', 'even', 'Not', 'fast']\n"
     ]
    }
   ],
   "source": [
    "sentiment_analysis(text)"
   ]
  },
  {
   "cell_type": "code",
   "execution_count": 50,
   "metadata": {},
   "outputs": [],
   "source": [
    "text = \"Everything is great except that i can't read external pdfs properly. Either it zooms too much of too little. For kindle books it provides great experience. Battery life is awesome!\""
   ]
  },
  {
   "cell_type": "code",
   "execution_count": 51,
   "metadata": {},
   "outputs": [
    {
     "name": "stdout",
     "output_type": "stream",
     "text": [
      "Sentiment: Positive\n",
      "Cause of positivity: ['Everything', 'i', 'pdfs', 'properly.', 'Either', 'books', 'Battery', 'life']\n",
      "Positive word: ['great', 'read', 'external', 'too', 'much', 'too', 'little.', 'kindle', 'great', 'experience.', 'awesome']\n"
     ]
    }
   ],
   "source": [
    "sentiment_analysis(text)"
   ]
  },
  {
   "cell_type": "code",
   "execution_count": 61,
   "metadata": {},
   "outputs": [],
   "source": [
    "text = \"it would not load my books proper. took a dozen tries erasing an dreregistering. screen too dark\""
   ]
  },
  {
   "cell_type": "code",
   "execution_count": 62,
   "metadata": {},
   "outputs": [
    {
     "name": "stdout",
     "output_type": "stream",
     "text": [
      "Sentiment: Negative\n",
      "Cause of negativity: ['books', 'dozen', 'tries', 'dreregistering.', 'screen']\n",
      "Negative word: ['not', 'too', 'dark']\n"
     ]
    }
   ],
   "source": [
    "sentiment_analysis(text)"
   ]
  },
  {
   "cell_type": "code",
   "execution_count": 59,
   "metadata": {},
   "outputs": [],
   "source": [
    "text = \"If ads dont bother you, then this may be a decent device. Purchased this for my kid and it was loaded down with so much spam, it kept loading it up making it slow and laggy\""
   ]
  },
  {
   "cell_type": "code",
   "execution_count": 60,
   "metadata": {},
   "outputs": [
    {
     "name": "stdout",
     "output_type": "stream",
     "text": [
      "Sentiment: Negative\n",
      "Cause of negativity: ['ads', 'device.', 'kid', 'spam']\n",
      "Negative word: ['then', 'decent', 'so', 'much', 'slow', 'laggy']\n"
     ]
    }
   ],
   "source": [
    "sentiment_analysis(text)"
   ]
  },
  {
   "cell_type": "code",
   "execution_count": 56,
   "metadata": {},
   "outputs": [],
   "source": [
    "text = \"For the first month it was good. But from the starting i was having blue tooth connectivity issue. It was not even having good connection within 5metres. Then within 30 days due to sweating it completely stopped working. I am still searching for the right wireless ear phone which can be used for long run, marathon and resist sweating.Very poor customer care service. I returned the product and have to wait for 3 week for dispatching a new one. Still on 4th week no shipment done.\""
   ]
  },
  {
   "cell_type": "code",
   "execution_count": 57,
   "metadata": {},
   "outputs": [
    {
     "name": "stdout",
     "output_type": "stream",
     "text": [
      "Sentiment: Compliant\n"
     ]
    }
   ],
   "source": [
    "sentiment_analysis(text)"
   ]
  },
  {
   "cell_type": "code",
   "execution_count": null,
   "metadata": {},
   "outputs": [],
   "source": []
  }
 ],
 "metadata": {
  "kernelspec": {
   "display_name": "Python 3",
   "language": "python",
   "name": "python3"
  },
  "language_info": {
   "codemirror_mode": {
    "name": "ipython",
    "version": 3
   },
   "file_extension": ".py",
   "mimetype": "text/x-python",
   "name": "python",
   "nbconvert_exporter": "python",
   "pygments_lexer": "ipython3",
   "version": "3.7.1"
  }
 },
 "nbformat": 4,
 "nbformat_minor": 2
}
