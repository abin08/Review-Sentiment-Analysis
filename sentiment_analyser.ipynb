{
 "cells": [
  {
   "cell_type": "code",
   "execution_count": 144,
   "metadata": {},
   "outputs": [],
   "source": [
    "import pandas as pd\n",
    "import pickle\n",
    "import nltk\n",
    "from nltk.tokenize.toktok import ToktokTokenizer\n",
    "from nltk.sentiment.vader import SentimentIntensityAnalyzer\n",
    "import warnings\n",
    "warnings.filterwarnings('ignore')\n",
    "\n",
    "import text_processor as tp"
   ]
  },
  {
   "cell_type": "code",
   "execution_count": 145,
   "metadata": {},
   "outputs": [],
   "source": [
    "sia = SentimentIntensityAnalyzer()"
   ]
  },
  {
   "cell_type": "code",
   "execution_count": 295,
   "metadata": {},
   "outputs": [],
   "source": [
    "# import classifier\n",
    "with open('pickles/amazon/mnb_classifier.pickle', 'rb') as data:\n",
    "    model = pickle.load(data)\n",
    "    \n",
    "# import tfidf\n",
    "with open('pickles/amazon/tfidf.pickle', 'rb') as data:\n",
    "     tfidf = pickle.load(data)"
   ]
  },
  {
   "cell_type": "code",
   "execution_count": 198,
   "metadata": {},
   "outputs": [],
   "source": [
    "sentiment_map = {'Negative':0, 'Positive':1, 'Compliant':2}"
   ]
  },
  {
   "cell_type": "code",
   "execution_count": 297,
   "metadata": {},
   "outputs": [],
   "source": [
    "def get_sentiment(text):\n",
    "    \"\"\"\n",
    "    Predicts the sentiment of text using the Multinomial Naive Bayes Model\n",
    "    \"\"\"\n",
    "    sentiment_id = model.predict(tfidf.transform([text]))\n",
    "    return get_name(sentiment_id)"
   ]
  },
  {
   "cell_type": "code",
   "execution_count": 300,
   "metadata": {},
   "outputs": [],
   "source": [
    "def get_name(sentiment_id):\n",
    "    \"\"\"\n",
    "    Gets sentiment name from sentiment_map using sentiment_id\n",
    "    \"\"\"\n",
    "    for sentiment, id_ in sentiment_map.items():\n",
    "        if id_ == sentiment_id:\n",
    "            return sentiment"
   ]
  },
  {
   "cell_type": "code",
   "execution_count": 301,
   "metadata": {},
   "outputs": [],
   "source": [
    "def get_noun(text):\n",
    "    \"\"\"\n",
    "    Finds noun of the text\n",
    "    \"\"\"\n",
    "    tokenizer = ToktokTokenizer()\n",
    "    tokens = tokenizer.tokenize(text)    \n",
    "    pos_tags = nltk.pos_tag(tokens)\n",
    "    nouns = []\n",
    "    for word, tag in pos_tags:\n",
    "        if tag == \"NN\" or tag == \"NNP\" or tag == \"NNS\":\n",
    "            nouns.append(word)\n",
    "    return nouns\n",
    "    "
   ]
  },
  {
   "cell_type": "code",
   "execution_count": 302,
   "metadata": {},
   "outputs": [],
   "source": [
    "def top_pos_word(text):\n",
    "    \"\"\"\n",
    "    Finds top positive word using nltk vader library\n",
    "    \"\"\"\n",
    "    pos_polarity = dict()\n",
    "    for word in tp.get_tokens(text):\n",
    "        pos_score = sia.polarity_scores(word)['pos']\n",
    "        if word not in pos_polarity:\n",
    "            pos_polarity[word] = pos_score\n",
    "        else:\n",
    "            pos_polarity[word] += pos_score\n",
    "    top_word = max(pos_polarity, key=pos_polarity.get)\n",
    "    return top_word"
   ]
  },
  {
   "cell_type": "code",
   "execution_count": 303,
   "metadata": {},
   "outputs": [],
   "source": [
    "def top_neg_word(text):\n",
    "    \"\"\"\n",
    "    Finds top negative word using nltk vader library\n",
    "    \"\"\"\n",
    "    neg_polarity = dict()\n",
    "    for word in tp.get_tokens(text):\n",
    "        neg_score = sia.polarity_scores(word)['neg']\n",
    "        if word not in neg_polarity:\n",
    "            neg_polarity[word] = neg_score\n",
    "        else:\n",
    "            neg_polarity[word] += neg_score\n",
    "    top_word = max(neg_polarity, key=neg_polarity.get)\n",
    "    return top_word"
   ]
  },
  {
   "cell_type": "code",
   "execution_count": 304,
   "metadata": {},
   "outputs": [],
   "source": [
    "def sentiment_analysis(text):\n",
    "    \"\"\"\n",
    "    Finds the sentiment of text, prints positive or negative word and \n",
    "    prints the causing words of positivity or negativity\n",
    "    \"\"\"\n",
    "    text = tp.clean_text(text)\n",
    "    sentiment = get_sentiment(text)\n",
    "    print(f'Sentiment: {sentiment}')\n",
    "    if sentiment == 'Positive':\n",
    "        nouns = get_noun(text)\n",
    "        print(f'Positive word: {top_pos_word(text)}')\n",
    "        print(f'Cause of positivity: {nouns}')\n",
    "    elif sentiment == 'Negative':\n",
    "        nouns = get_noun(text)\n",
    "        print(f'Negative word: {top_neg_word(text)}')\n",
    "        print(f'Cause of negativity: {nouns}')"
   ]
  },
  {
   "cell_type": "code",
   "execution_count": 305,
   "metadata": {},
   "outputs": [],
   "source": [
    "text = \"I love the color\""
   ]
  },
  {
   "cell_type": "code",
   "execution_count": 306,
   "metadata": {},
   "outputs": [
    {
     "name": "stdout",
     "output_type": "stream",
     "text": [
      "Sentiment: Positive\n",
      "Positive word: love\n",
      "Cause of positivity: ['love', 'color']\n"
     ]
    }
   ],
   "source": [
    "sentiment_analysis(text)"
   ]
  },
  {
   "cell_type": "code",
   "execution_count": 307,
   "metadata": {},
   "outputs": [],
   "source": [
    "text = \"It's beyond my expectation, and it can even show music score. Not fast turning though.\""
   ]
  },
  {
   "cell_type": "code",
   "execution_count": 308,
   "metadata": {},
   "outputs": [
    {
     "name": "stdout",
     "output_type": "stream",
     "text": [
      "Sentiment: Positive\n",
      "Positive word: beyond\n",
      "Cause of positivity: ['expectation', 'music', 'score', 'turn']\n"
     ]
    }
   ],
   "source": [
    "sentiment_analysis(text)"
   ]
  },
  {
   "cell_type": "code",
   "execution_count": 287,
   "metadata": {},
   "outputs": [],
   "source": [
    "text = \"Everything is great except that i can't read external pdfs properly. Either it zooms too much of too little. For kindle books it provides great experience. Battery life is awesome!\""
   ]
  },
  {
   "cell_type": "code",
   "execution_count": 288,
   "metadata": {},
   "outputs": [
    {
     "name": "stdout",
     "output_type": "stream",
     "text": [
      "Sentiment: Positive\n",
      "Positive word: great\n",
      "Cause of positivity: ['everything', 'pdfs', 'zoom', 'book', 'experience', 'battery', 'life', 'awesome']\n"
     ]
    }
   ],
   "source": [
    "sentiment_analysis(text)"
   ]
  },
  {
   "cell_type": "code",
   "execution_count": 289,
   "metadata": {},
   "outputs": [],
   "source": [
    "text = \"it would not load my books proper. took a dozen tries erasing an dreregistering. screen too dark\""
   ]
  },
  {
   "cell_type": "code",
   "execution_count": 290,
   "metadata": {},
   "outputs": [
    {
     "name": "stdout",
     "output_type": "stream",
     "text": [
      "Sentiment: Negative\n",
      "Negative word: would\n",
      "Cause of negativity: ['book', 'take', 'dozen', 'erase', 'dark']\n"
     ]
    }
   ],
   "source": [
    "sentiment_analysis(text)"
   ]
  },
  {
   "cell_type": "code",
   "execution_count": 291,
   "metadata": {},
   "outputs": [],
   "source": [
    "text = \"If ads dont bother you, then this may be a decent device. Purchased this for my kid and it was loaded down with so much spam, it kept loading it up making it slow and laggy\""
   ]
  },
  {
   "cell_type": "code",
   "execution_count": 292,
   "metadata": {},
   "outputs": [
    {
     "name": "stdout",
     "output_type": "stream",
     "text": [
      "Sentiment: Negative\n",
      "Negative word: bother\n",
      "Cause of negativity: ['ad', 'bother', 'device', 'purchase', 'spam', 'load', 'laggy']\n"
     ]
    }
   ],
   "source": [
    "sentiment_analysis(text)"
   ]
  },
  {
   "cell_type": "code",
   "execution_count": 293,
   "metadata": {},
   "outputs": [],
   "source": [
    "text = \"For the first month it was good. But from the starting i was having blue tooth connectivity issue. It was not even having good connection within 5metres. Then within 30 days due to sweating it completely stopped working. I am still searching for the right wireless ear phone which can be used for long run, marathon and resist sweating.Very poor customer care service. I returned the product and have to wait for 3 week for dispatching a new one. Still on 4th week no shipment done.\""
   ]
  },
  {
   "cell_type": "code",
   "execution_count": 294,
   "metadata": {},
   "outputs": [
    {
     "name": "stdout",
     "output_type": "stream",
     "text": [
      "Sentiment: Compliant\n"
     ]
    }
   ],
   "source": [
    "sentiment_analysis(text)"
   ]
  },
  {
   "cell_type": "code",
   "execution_count": null,
   "metadata": {},
   "outputs": [],
   "source": []
  },
  {
   "cell_type": "code",
   "execution_count": null,
   "metadata": {},
   "outputs": [],
   "source": []
  }
 ],
 "metadata": {
  "kernelspec": {
   "display_name": "Python 3",
   "language": "python",
   "name": "python3"
  },
  "language_info": {
   "codemirror_mode": {
    "name": "ipython",
    "version": 3
   },
   "file_extension": ".py",
   "mimetype": "text/x-python",
   "name": "python",
   "nbconvert_exporter": "python",
   "pygments_lexer": "ipython3",
   "version": "3.7.0"
  }
 },
 "nbformat": 4,
 "nbformat_minor": 2
}
